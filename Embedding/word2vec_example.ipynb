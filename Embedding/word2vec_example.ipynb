{
 "cells": [
  {
   "cell_type": "code",
   "execution_count": 57,
   "metadata": {},
   "outputs": [],
   "source": [
    "import pprint\n",
    "from keras.utils.data_utils import get_file\n",
    "from keras.utils import np_utils\n",
    "from keras.preprocessing.text import Tokenizer\n",
    "from keras.preprocessing.sequence import skipgrams\n",
    "from keras.models import Sequential, Model\n",
    "from keras.layers import Dense\n",
    "from keras import Input\n",
    "import numpy as np\n",
    "from sklearn.model_selection import train_test_split"
   ]
  },
  {
   "cell_type": "code",
   "execution_count": 70,
   "metadata": {},
   "outputs": [],
   "source": [
    "path = './alice.txt'\n",
    "sentences = [line.strip() for line in open(path) if line != '\\n']\n",
    "\n",
    "tokenizer = Tokenizer(filters='!\"#$%&()*+,-./:;<=>?@[\\\\]^_{|}?tn' + \"'\")\n",
    "tokenizer.fit_on_texts(sentences)\n",
    "corpus = tokenizer.texts_to_sequences(sentences)\n",
    "\n",
    "V = len(tokenizer.word_index) + 1\n",
    "dim = 2\n",
    "window_size = 5"
   ]
  },
  {
   "cell_type": "markdown",
   "metadata": {},
   "source": [
    "# Skipgram without negative sampling"
   ]
  },
  {
   "cell_type": "markdown",
   "metadata": {},
   "source": [
    "## Data processing"
   ]
  },
  {
   "cell_type": "code",
   "execution_count": 71,
   "metadata": {},
   "outputs": [],
   "source": [
    "pair_data, labels = [], []\n",
    "for words in corpus:\n",
    "    temp_pair_data, temp_labels = skipgrams(words, V, window_size, negative_samples=0, shuffle=True)\n",
    "    pair_data += temp_pair_data\n",
    "    labels += temp_labels\n",
    "    \n",
    "pair_data = [[np_utils.to_categorical(ele1, V), \\\n",
    "              np_utils.to_categorical(ele2, V)] \\\n",
    "             for ele1, ele2 in pair_data]\n",
    "\n",
    "X = np.array([ele[0] for ele in pair_data])\n",
    "y = np.array([ele[1] for ele in pair_data])\n",
    "\n",
    "X_train, X_test, y_train, y_test = train_test_split(X, y, test_size=0.1, random_state=42)"
   ]
  },
  {
   "cell_type": "markdown",
   "metadata": {},
   "source": [
    "## Build model"
   ]
  },
  {
   "cell_type": "code",
   "execution_count": 72,
   "metadata": {},
   "outputs": [
    {
     "name": "stdout",
     "output_type": "stream",
     "text": [
      "Model: \"sequential_9\"\n",
      "_________________________________________________________________\n",
      "Layer (type)                 Output Shape              Param #   \n",
      "=================================================================\n",
      "Hidden_Layer (Dense)         (None, 2)                 4708      \n",
      "_________________________________________________________________\n",
      "dense_16 (Dense)             (None, 2353)              7059      \n",
      "=================================================================\n",
      "Total params: 11,767\n",
      "Trainable params: 11,767\n",
      "Non-trainable params: 0\n",
      "_________________________________________________________________\n"
     ]
    }
   ],
   "source": [
    "model = Sequential()\n",
    "model.add(Input(shape = V))\n",
    "model.add(Dense(dim, activation='softmax'))\n",
    "model.add(Dense(V, activation='softmax'))\n",
    "model.layers[0]._name = \"Hidden_Layer\"\n",
    "model.compile(loss='categorical_crossentropy', optimizer='rmsprop')\n",
    "model.summary()"
   ]
  },
  {
   "cell_type": "code",
   "execution_count": 73,
   "metadata": {},
   "outputs": [
    {
     "name": "stdout",
     "output_type": "stream",
     "text": [
      "Epoch 1/5\n",
      "4210/4210 [==============================] - 15s 3ms/step - loss: 5.8892 - val_loss: 5.6182\n",
      "Epoch 2/5\n",
      "4210/4210 [==============================] - 13s 3ms/step - loss: 5.7320 - val_loss: 5.8569\n",
      "Epoch 3/5\n",
      "4210/4210 [==============================] - 13s 3ms/step - loss: 5.8889 - val_loss: 5.9500\n",
      "Epoch 4/5\n",
      "4210/4210 [==============================] - 14s 3ms/step - loss: 5.9447 - val_loss: 5.9819\n",
      "Epoch 5/5\n",
      "4210/4210 [==============================] - 15s 4ms/step - loss: 5.9634 - val_loss: 5.9944\n"
     ]
    },
    {
     "data": {
      "text/plain": [
       "<tensorflow.python.keras.callbacks.History at 0x7fbad409c7f0>"
      ]
     },
     "execution_count": 73,
     "metadata": {},
     "output_type": "execute_result"
    }
   ],
   "source": [
    "model.fit(X_train, y_train, batch_size = 64, validation_data = (X_test, y_test), epochs = 5)"
   ]
  },
  {
   "cell_type": "markdown",
   "metadata": {},
   "source": [
    "## Check hidden layer result"
   ]
  },
  {
   "cell_type": "code",
   "execution_count": 74,
   "metadata": {},
   "outputs": [],
   "source": [
    "vectors = model.get_weights()[0]"
   ]
  },
  {
   "cell_type": "code",
   "execution_count": 75,
   "metadata": {},
   "outputs": [],
   "source": [
    "do_minus_did = vectors[tokenizer.word_index['do']] - vectors[tokenizer.word_index['did']]\n",
    "have_minus_had = vectors[tokenizer.word_index['have']] - vectors[tokenizer.word_index['had']]"
   ]
  },
  {
   "cell_type": "code",
   "execution_count": 76,
   "metadata": {},
   "outputs": [],
   "source": [
    "import matplotlib.pyplot as plt"
   ]
  },
  {
   "cell_type": "code",
   "execution_count": 86,
   "metadata": {},
   "outputs": [
    {
     "data": {
      "text/plain": [
       "<matplotlib.legend.Legend at 0x7fb79a917af0>"
      ]
     },
     "execution_count": 86,
     "metadata": {},
     "output_type": "execute_result"
    },
    {
     "data": {
      "image/png": "[encoded data removed]",
      "text/plain": [
       "<Figure size 504x504 with 1 Axes>"
      ]
     },
     "metadata": {
      "needs_background": "light"
     },
     "output_type": "display_data"
    }
   ],
   "source": [
    "word_lst = ['do','did','have','had', \"look\", \"looked\"]\n",
    "plt.figure(figsize = (7, 7))\n",
    "for word in word_lst:\n",
    "    plt.plot(vectors[tokenizer.word_index[word]][0], \\\n",
    "             vectors[tokenizer.word_index[word]][1], 'd', label = word)\n",
    "plt.legend()"
   ]
  },
  {
   "cell_type": "markdown",
   "metadata": {},
   "source": [
    "In this toy example, we used data from \"Alice\" and trained a model with 2 hidden units. Therefore, we managed to get a vectorization from V = 2353 to dim = 2. From the above plot, we can observe that the model can learn some relation behind the word."
   ]
  },
  {
   "cell_type": "code",
   "execution_count": null,
   "metadata": {},
   "outputs": [],
   "source": []
  }
 ],
 "metadata": {
  "kernelspec": {
   "display_name": "Python 3",
   "language": "python",
   "name": "python3"
  },
  "language_info": {
   "codemirror_mode": {
    "name": "ipython",
    "version": 3
   },
   "file_extension": ".py",
   "mimetype": "text/x-python",
   "name": "python",
   "nbconvert_exporter": "python",
   "pygments_lexer": "ipython3",
   "version": "3.8.2"
  }
 },
 "nbformat": 4,
 "nbformat_minor": 4
}
