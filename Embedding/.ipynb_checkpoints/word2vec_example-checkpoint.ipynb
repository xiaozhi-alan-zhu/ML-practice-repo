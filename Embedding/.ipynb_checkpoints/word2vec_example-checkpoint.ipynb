{
 "cells": [
  {
   "cell_type": "code",
   "execution_count": 141,
   "metadata": {},
   "outputs": [],
   "source": [
    "import pprint\n",
    "from keras.utils.data_utils import get_file\n",
    "from keras.utils import np_utils, Sequence\n",
    "from keras.preprocessing.text import Tokenizer\n",
    "from keras.preprocessing.sequence import skipgrams\n",
    "from keras.models import Sequential, Model\n",
    "from keras.layers import Dense, Embedding, Dot, Reshape, Activation, Concatenate, Lambda\n",
    "from keras import Input\n",
    "import keras.backend as K\n",
    "\n",
    "import numpy as np\n",
    "from sklearn.model_selection import train_test_split\n",
    "import tensorflow_datasets as tfds"
   ]
  },
  {
   "cell_type": "code",
   "execution_count": 3,
   "metadata": {},
   "outputs": [],
   "source": [
    "# path = './alice.txt'\n",
    "path = \"./PrideAndPrejudice.txt\"\n",
    "sentences = [line.strip() for line in open(path) if line != '\\n']\n",
    "\n",
    "sentences = sentences[:5000]"
   ]
  },
  {
   "cell_type": "code",
   "execution_count": 5,
   "metadata": {},
   "outputs": [],
   "source": [
    "tokenizer = Tokenizer(num_words = 2000)\n",
    "tokenizer.fit_on_texts(sentences)\n",
    "corpus = tokenizer.texts_to_sequences(sentences)\n",
    "\n",
    "V = len(tokenizer.word_index) + 1\n",
    "dim = 2\n",
    "window_size = 5"
   ]
  },
  {
   "cell_type": "markdown",
   "metadata": {},
   "source": [
    "# Skipgram without negative sampling"
   ]
  },
  {
   "cell_type": "markdown",
   "metadata": {},
   "source": [
    "## Data processing"
   ]
  },
  {
   "cell_type": "code",
   "execution_count": 7,
   "metadata": {},
   "outputs": [],
   "source": [
    "pair_data, labels = [], []\n",
    "for words in corpus:\n",
    "    temp_pair_data, temp_labels = skipgrams(words, V, window_size, negative_samples=0, shuffle=True)\n",
    "    pair_data += temp_pair_data\n",
    "    labels += temp_labels\n",
    "    \n",
    "pair_data = [[np_utils.to_categorical(ele1, V), \\\n",
    "              np_utils.to_categorical(ele2, V)] \\\n",
    "             for ele1, ele2 in pair_data]\n",
    "\n",
    "X = np.array([ele[0] for ele in pair_data])\n",
    "y = np.array([ele[1] for ele in pair_data])\n",
    "\n",
    "X_train, X_test, y_train, y_test = train_test_split(X, y, test_size=0.1, random_state=42)"
   ]
  },
  {
   "cell_type": "code",
   "execution_count": 8,
   "metadata": {},
   "outputs": [
    {
     "data": {
      "text/plain": [
       "(304038, 4776)"
      ]
     },
     "execution_count": 8,
     "metadata": {},
     "output_type": "execute_result"
    }
   ],
   "source": [
    "X_train.shape"
   ]
  },
  {
   "cell_type": "markdown",
   "metadata": {},
   "source": [
    "## Build model"
   ]
  },
  {
   "cell_type": "code",
   "execution_count": 54,
   "metadata": {},
   "outputs": [
    {
     "name": "stdout",
     "output_type": "stream",
     "text": [
      "Model: \"sequential_2\"\n",
      "_________________________________________________________________\n",
      "Layer (type)                 Output Shape              Param #   \n",
      "=================================================================\n",
      "Hidden_Layer (Dense)         (None, 2)                 9554      \n",
      "_________________________________________________________________\n",
      "dense_5 (Dense)              (None, 4776)              14328     \n",
      "=================================================================\n",
      "Total params: 23,882\n",
      "Trainable params: 23,882\n",
      "Non-trainable params: 0\n",
      "_________________________________________________________________\n"
     ]
    }
   ],
   "source": [
    "model = Sequential()\n",
    "model.add(Input(shape = V))\n",
    "model.add(Dense(dim, activation='softmax'))\n",
    "model.add(Dense(V, activation='softmax'))\n",
    "model.layers[0]._name = \"Hidden_Layer\"\n",
    "model.compile(loss='categorical_crossentropy', optimizer='rmsprop')\n",
    "model.summary()"
   ]
  },
  {
   "cell_type": "code",
   "execution_count": 55,
   "metadata": {},
   "outputs": [
    {
     "name": "stdout",
     "output_type": "stream",
     "text": [
      "Epoch 1/2\n",
      "4751/4751 [==============================] - 27s 6ms/step - loss: 6.3956 - val_loss: 6.0853\n",
      "Epoch 2/2\n",
      "4751/4751 [==============================] - 25s 5ms/step - loss: 6.2123 - val_loss: 6.2960\n"
     ]
    },
    {
     "data": {
      "text/plain": [
       "<tensorflow.python.keras.callbacks.History at 0x7f64683403a0>"
      ]
     },
     "execution_count": 55,
     "metadata": {},
     "output_type": "execute_result"
    }
   ],
   "source": [
    "model.fit(X_train, y_train, batch_size = 64, validation_data = (X_test, y_test), epochs = 2)"
   ]
  },
  {
   "cell_type": "markdown",
   "metadata": {},
   "source": [
    "## Check hidden layer result"
   ]
  },
  {
   "cell_type": "code",
   "execution_count": 56,
   "metadata": {},
   "outputs": [],
   "source": [
    "vectors = model.get_weights()[0]"
   ]
  },
  {
   "cell_type": "code",
   "execution_count": 13,
   "metadata": {},
   "outputs": [],
   "source": [
    "import matplotlib.pyplot as plt"
   ]
  },
  {
   "cell_type": "code",
   "execution_count": 59,
   "metadata": {},
   "outputs": [
    {
     "data": {
      "image/png": "[encoded data removed]",
      "text/plain": [
       "<Figure size 504x504 with 1 Axes>"
      ]
     },
     "metadata": {
      "needs_background": "light"
     },
     "output_type": "display_data"
    }
   ],
   "source": [
    "word_lst = ['do','did','have','had', 'think', 'thought']\n",
    "plt.figure(figsize = (7, 7))\n",
    "for word in word_lst:\n",
    "    plt.plot(vectors[tokenizer.word_index[word]][0], \\\n",
    "             vectors[tokenizer.word_index[word]][1], 'd')\n",
    "    plt.text(vectors[tokenizer.word_index[word]][0], \\\n",
    "             vectors[tokenizer.word_index[word]][1], word)"
   ]
  },
  {
   "cell_type": "code",
   "execution_count": 57,
   "metadata": {},
   "outputs": [
    {
     "data": {
      "image/png": "[encoded data removed]",
      "text/plain": [
       "<Figure size 504x504 with 1 Axes>"
      ]
     },
     "metadata": {
      "needs_background": "light"
     },
     "output_type": "display_data"
    }
   ],
   "source": [
    "word_lst = ['he', 'him', 'she', 'her']\n",
    "plt.figure(figsize = (7, 7))\n",
    "\n",
    "for word in word_lst:\n",
    "    plt.plot(vectors[tokenizer.word_index[word]][0], \\\n",
    "             vectors[tokenizer.word_index[word]][1], 'd')\n",
    "    plt.text(vectors[tokenizer.word_index[word]][0], \\\n",
    "             vectors[tokenizer.word_index[word]][1], word)"
   ]
  },
  {
   "cell_type": "markdown",
   "metadata": {},
   "source": [
    "In this toy example, we used data from \"Alice\" and trained a model with 2 hidden units. Therefore, we managed to get a vectorization from V = 4776 to dim = 2. From the above plot, we can observe that the model can learn some relation behind the word."
   ]
  },
  {
   "cell_type": "markdown",
   "metadata": {},
   "source": [
    "# Skipgram with negative sampling"
   ]
  },
  {
   "cell_type": "code",
   "execution_count": 155,
   "metadata": {},
   "outputs": [],
   "source": [
    "from keras.layers import Input, Flatten, Embedding, dot, Activation\n",
    "from tqdm import tqdm"
   ]
  },
  {
   "cell_type": "code",
   "execution_count": 137,
   "metadata": {},
   "outputs": [],
   "source": [
    "def build_model(input_dim, embedding_dim):\n",
    "    target_input_token = Input(shape=[1])\n",
    "    context_input_token = Input(shape=[1])\n",
    "    \n",
    "    target_embed = Embedding(output_dim = embedding_dim, \\\n",
    "                             input_dim = input_dim, input_length = 1, \\\n",
    "                             name = \"target_embed\")(target_input_token)\n",
    "    context_embed = Embedding(output_dim = embedding_dim, \\\n",
    "                             input_dim = input_dim, input_length = 1, \\\n",
    "                             name = \"context_embed\")(context_input_token)\n",
    "    \n",
    "    target_vec = Flatten()(target_embed)\n",
    "    context_vec = Flatten()(context_embed)\n",
    "    \n",
    "    y = Activation('sigmoid')(dot([target_vec, context_vec], axes = 1))\n",
    "    model = Model(inputs=[target_input_token, context_input_token], outputs = [y])\n",
    "    model.compile(loss = 'binary_crossentropy', optimizer = 'rmsprop')\n",
    "    \n",
    "    return model"
   ]
  },
  {
   "cell_type": "code",
   "execution_count": 138,
   "metadata": {},
   "outputs": [],
   "source": [
    "model = build_model(V, 10)"
   ]
  },
  {
   "cell_type": "code",
   "execution_count": 139,
   "metadata": {},
   "outputs": [
    {
     "name": "stdout",
     "output_type": "stream",
     "text": [
      "Model: \"model_1\"\n",
      "__________________________________________________________________________________________________\n",
      "Layer (type)                    Output Shape         Param #     Connected to                     \n",
      "==================================================================================================\n",
      "input_8 (InputLayer)            [(None, 1)]          0                                            \n",
      "__________________________________________________________________________________________________\n",
      "input_9 (InputLayer)            [(None, 1)]          0                                            \n",
      "__________________________________________________________________________________________________\n",
      "target_embed (Embedding)        (None, 1, 10)        47760       input_8[0][0]                    \n",
      "__________________________________________________________________________________________________\n",
      "context_embed (Embedding)       (None, 1, 10)        47760       input_9[0][0]                    \n",
      "__________________________________________________________________________________________________\n",
      "flatten_2 (Flatten)             (None, 10)           0           target_embed[0][0]               \n",
      "__________________________________________________________________________________________________\n",
      "flatten_3 (Flatten)             (None, 10)           0           context_embed[0][0]              \n",
      "__________________________________________________________________________________________________\n",
      "dot_18 (Dot)                    (None, 1)            0           flatten_2[0][0]                  \n",
      "                                                                 flatten_3[0][0]                  \n",
      "__________________________________________________________________________________________________\n",
      "activation_1 (Activation)       (None, 1)            0           dot_18[0][0]                     \n",
      "==================================================================================================\n",
      "Total params: 95,520\n",
      "Trainable params: 95,520\n",
      "Non-trainable params: 0\n",
      "__________________________________________________________________________________________________\n"
     ]
    }
   ],
   "source": [
    "model.summary()"
   ]
  },
  {
   "cell_type": "code",
   "execution_count": 156,
   "metadata": {},
   "outputs": [],
   "source": [
    "def train_model(model, sentences, num_neg_samples = 30, window_size = 5, epochs = 2, V = V):\n",
    "    for epoch in range(epochs):\n",
    "        loss = 0.\n",
    "        for i, sent in enumerate(tqdm(sentences)):\n",
    "            couples, labels = skipgrams(sequence=sent, vocabulary_size = V, \\\n",
    "                                        window_size = window_size, \\\n",
    "                                        negative_samples=num_neg_samples)\n",
    "            if couples:\n",
    "                words, contexts = zip(*couples)\n",
    "                words = np.array(words, dtype=np.int32)\n",
    "                contexts = np.array(contexts, dtype=np.int32)\n",
    "                y = np.array(labels, dtype=np.int32)\n",
    "                loss += model.train_on_batch([words, contexts], y)\n",
    "        print('num epoch: {} loss: {}'.format(epoch, loss))\n",
    "\n",
    "    return model"
   ]
  },
  {
   "cell_type": "code",
   "execution_count": 157,
   "metadata": {},
   "outputs": [
    {
     "name": "stderr",
     "output_type": "stream",
     "text": [
      "100%|██████████| 5000/5000 [01:36<00:00, 51.70it/s]\n",
      "  0%|          | 9/5000 [00:00<00:55, 89.61it/s]"
     ]
    },
    {
     "name": "stdout",
     "output_type": "stream",
     "text": [
      "num epoch: 0 loss: 963.2725164070725\n"
     ]
    },
    {
     "name": "stderr",
     "output_type": "stream",
     "text": [
      "100%|██████████| 5000/5000 [01:35<00:00, 52.51it/s]"
     ]
    },
    {
     "name": "stdout",
     "output_type": "stream",
     "text": [
      "num epoch: 1 loss: 618.3400668818504\n"
     ]
    },
    {
     "name": "stderr",
     "output_type": "stream",
     "text": [
      "\n"
     ]
    },
    {
     "data": {
      "text/plain": [
       "<tensorflow.python.keras.engine.training.Model at 0x7f69014fa850>"
      ]
     },
     "execution_count": 157,
     "metadata": {},
     "output_type": "execute_result"
    }
   ],
   "source": [
    "train_model(model, corpus)"
   ]
  },
  {
   "cell_type": "code",
   "execution_count": 161,
   "metadata": {},
   "outputs": [],
   "source": [
    "vectors = model.get_weights()[0]"
   ]
  },
  {
   "cell_type": "code",
   "execution_count": 162,
   "metadata": {},
   "outputs": [
    {
     "data": {
      "image/png": "[encoded data removed]",
      "text/plain": [
       "<Figure size 504x504 with 1 Axes>"
      ]
     },
     "metadata": {
      "needs_background": "light"
     },
     "output_type": "display_data"
    }
   ],
   "source": [
    "word_lst = ['he', 'him', 'she', 'her']\n",
    "plt.figure(figsize = (7, 7))\n",
    "\n",
    "for word in word_lst:\n",
    "    plt.plot(vectors[tokenizer.word_index[word]][0], \\\n",
    "             vectors[tokenizer.word_index[word]][1], 'd')\n",
    "    plt.text(vectors[tokenizer.word_index[word]][0], \\\n",
    "             vectors[tokenizer.word_index[word]][1], word)"
   ]
  },
  {
   "cell_type": "code",
   "execution_count": 164,
   "metadata": {},
   "outputs": [
    {
     "data": {
      "image/png": "[encoded data removed]",
      "text/plain": [
       "<Figure size 504x504 with 1 Axes>"
      ]
     },
     "metadata": {
      "needs_background": "light"
     },
     "output_type": "display_data"
    }
   ],
   "source": [
    "word_lst = ['do','did','have','had']\n",
    "plt.figure(figsize = (7, 7))\n",
    "for word in word_lst:\n",
    "    plt.plot(vectors[tokenizer.word_index[word]][0], \\\n",
    "             vectors[tokenizer.word_index[word]][1], 'd')\n",
    "    plt.text(vectors[tokenizer.word_index[word]][0], \\\n",
    "             vectors[tokenizer.word_index[word]][1], word)"
   ]
  },
  {
   "cell_type": "markdown",
   "metadata": {},
   "source": [
    "We can observe some similar result as the previous method."
   ]
  },
  {
   "cell_type": "code",
   "execution_count": null,
   "metadata": {},
   "outputs": [],
   "source": []
  }
 ],
 "metadata": {
  "kernelspec": {
   "display_name": "Python 3",
   "language": "python",
   "name": "python3"
  },
  "language_info": {
   "codemirror_mode": {
    "name": "ipython",
    "version": 3
   },
   "file_extension": ".py",
   "mimetype": "text/x-python",
   "name": "python",
   "nbconvert_exporter": "python",
   "pygments_lexer": "ipython3",
   "version": "3.8.2"
  }
 },
 "nbformat": 4,
 "nbformat_minor": 4
}
