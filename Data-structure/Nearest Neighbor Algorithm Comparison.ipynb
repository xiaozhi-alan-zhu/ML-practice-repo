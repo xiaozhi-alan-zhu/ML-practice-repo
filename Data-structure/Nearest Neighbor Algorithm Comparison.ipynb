{
 "cells": [
  {
   "cell_type": "code",
   "execution_count": 1,
   "metadata": {},
   "outputs": [],
   "source": [
    "import heapq\n",
    "import matplotlib.pyplot as plt\n",
    "import numpy as np\n",
    "from sklearn.neighbors import NearestNeighbors"
   ]
  },
  {
   "cell_type": "markdown",
   "metadata": {},
   "source": [
    "# Introduction\n",
    "This notebook implements test some neearest neighbor algorithms.\n",
    "\n",
    "# Brutal Force"
   ]
  },
  {
   "cell_type": "code",
   "execution_count": 16,
   "metadata": {},
   "outputs": [],
   "source": [
    "class brutal_force_nearest_neighbor:\n",
    "    def __init__(self, data_lst):\n",
    "        self.data_lst = data_lst\n",
    "        \n",
    "    def reset_datalst(self, data_lst):\n",
    "        self.data_lst = data_lst\n",
    "        \n",
    "    def find_top_k(self, x, k = 5):\n",
    "        dist_lst = [[np.linalg.norm(x - ele), idx] \\\n",
    "                for idx, ele in enumerate(self.data_lst)]\n",
    "        dist_lst.sort()\n",
    "        return [self.data_lst[i] for i in \\\n",
    "                [idx for dist, idx in dist_lst[:k]]]    "
   ]
  },
  {
   "cell_type": "code",
   "execution_count": 22,
   "metadata": {},
   "outputs": [
    {
     "data": {
      "text/plain": [
       "[array([ 0.00545283, -0.04924882, -0.01622512]),\n",
       " array([-0.07629304, -0.0001987 ,  0.00593705]),\n",
       " array([-0.01549295, -0.00033424, -0.08512716]),\n",
       " array([0.07244523, 0.03610154, 0.07886056]),\n",
       " array([ 0.047736  , -0.10353047,  0.01099387])]"
      ]
     },
     "execution_count": 22,
     "metadata": {},
     "output_type": "execute_result"
    }
   ],
   "source": [
    "raw_data = np.random.normal(size = (10000, 3))\n",
    "bf_nn = brutal_force_nearest_neighbor(raw_data)\n",
    "bf_nn.find_top_k(np.zeros(3))"
   ]
  },
  {
   "cell_type": "markdown",
   "metadata": {},
   "source": [
    "# Smarter Brutal Force with Heap"
   ]
  },
  {
   "cell_type": "code",
   "execution_count": 29,
   "metadata": {},
   "outputs": [],
   "source": [
    "class heap_nearest_neighbor:\n",
    "    def __init__(self, data_lst):\n",
    "        self.data_lst = data_lst\n",
    "        \n",
    "    def reset_datalst(self, data_lst):\n",
    "        self.data_lst = data_lst\n",
    "        \n",
    "    def find_top_k(self, x, k = 5):\n",
    "        \n",
    "        dist_lst = [[np.linalg.norm(x - ele), idx] \\\n",
    "                for idx, ele in enumerate(self.data_lst)]\n",
    "        \n",
    "        return [self.data_lst[i] for i in \\\n",
    "                [idx for dist, idx in heapq.nsmallest(k, dist_lst)]]    "
   ]
  },
  {
   "cell_type": "code",
   "execution_count": 30,
   "metadata": {},
   "outputs": [
    {
     "data": {
      "text/plain": [
       "[array([ 0.00545283, -0.04924882, -0.01622512]),\n",
       " array([-0.07629304, -0.0001987 ,  0.00593705]),\n",
       " array([-0.01549295, -0.00033424, -0.08512716]),\n",
       " array([0.07244523, 0.03610154, 0.07886056]),\n",
       " array([ 0.047736  , -0.10353047,  0.01099387])]"
      ]
     },
     "execution_count": 30,
     "metadata": {},
     "output_type": "execute_result"
    }
   ],
   "source": [
    "h_nn = heap_nearest_neighbor(raw_data)\n",
    "h_nn.find_top_k(np.zeros(3))"
   ]
  },
  {
   "cell_type": "markdown",
   "metadata": {},
   "source": [
    "# K-d Tree"
   ]
  },
  {
   "cell_type": "code",
   "execution_count": 31,
   "metadata": {},
   "outputs": [],
   "source": [
    "from scipy.spatial import KDTree"
   ]
  },
  {
   "cell_type": "code",
   "execution_count": 36,
   "metadata": {},
   "outputs": [],
   "source": [
    "class kdtree_nearest_neighbor:\n",
    "    def __init__(self, data_lst):\n",
    "        self.kdtree = KDTree(data_lst)\n",
    "        \n",
    "    def reset_datalst(self, data_lst):\n",
    "        self.kdtree = KDTree(data_lst)\n",
    "        \n",
    "    def find_top_k(self, x, k = 5):\n",
    "        dist, indices = self.kdtree.query(x, k) \n",
    "        return [self.kdtree.data[i] for i in indices]"
   ]
  },
  {
   "cell_type": "code",
   "execution_count": 37,
   "metadata": {},
   "outputs": [
    {
     "data": {
      "text/plain": [
       "[array([ 0.00545283, -0.04924882, -0.01622512]),\n",
       " array([-0.07629304, -0.0001987 ,  0.00593705]),\n",
       " array([-0.01549295, -0.00033424, -0.08512716]),\n",
       " array([0.07244523, 0.03610154, 0.07886056]),\n",
       " array([ 0.047736  , -0.10353047,  0.01099387])]"
      ]
     },
     "execution_count": 37,
     "metadata": {},
     "output_type": "execute_result"
    }
   ],
   "source": [
    "kdt_nn = kdtree_nearest_neighbor(raw_data)\n",
    "kdt_nn.find_top_k(np.zeros(3))"
   ]
  },
  {
   "cell_type": "markdown",
   "metadata": {},
   "source": [
    "# Locality sensitive hashing"
   ]
  },
  {
   "cell_type": "code",
   "execution_count": null,
   "metadata": {},
   "outputs": [],
   "source": []
  }
 ],
 "metadata": {
  "kernelspec": {
   "display_name": "Python 3",
   "language": "python",
   "name": "python3"
  },
  "language_info": {
   "codemirror_mode": {
    "name": "ipython",
    "version": 3
   },
   "file_extension": ".py",
   "mimetype": "text/x-python",
   "name": "python",
   "nbconvert_exporter": "python",
   "pygments_lexer": "ipython3",
   "version": "3.8.2"
  }
 },
 "nbformat": 4,
 "nbformat_minor": 4
}
