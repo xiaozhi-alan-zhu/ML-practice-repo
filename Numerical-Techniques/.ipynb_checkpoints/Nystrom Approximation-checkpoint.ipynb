{
 "cells": [
  {
   "cell_type": "code",
   "execution_count": 276,
   "id": "10ba9c90",
   "metadata": {},
   "outputs": [],
   "source": [
    "import numpy as np\n",
    "import matplotlib.pyplot as plt\n",
    "import time"
   ]
  },
  {
   "cell_type": "code",
   "execution_count": 262,
   "id": "79e2a693",
   "metadata": {},
   "outputs": [],
   "source": [
    "dim = 1000\n",
    "sample_num = 200\n",
    "xs = np.random.uniform(low=1, high=100, size=(sample_num, dim))\n",
    "kernel_function = lambda x, y : x.dot(y)/np.linalg.norm(x)/np.linalg.norm(y)"
   ]
  },
  {
   "cell_type": "code",
   "execution_count": 263,
   "id": "5f86bb96",
   "metadata": {},
   "outputs": [],
   "source": [
    "ground_truth = np.array([[kernel_function(xs[i], xs[j]) for j in range(xs.shape[0])] for i in range(xs.shape[0])])"
   ]
  },
  {
   "cell_type": "code",
   "execution_count": 264,
   "id": "c8613d98",
   "metadata": {},
   "outputs": [
    {
     "data": {
      "text/plain": [
       "4.234871406188554"
      ]
     },
     "execution_count": 264,
     "metadata": {},
     "output_type": "execute_result"
    }
   ],
   "source": [
    "q = 17\n",
    "random_index = np.random.choice(np.arange(sample_num), size=q, replace=False)\n",
    "other_index = list(set(np.arange(xs.shape[0])).difference(set(random_index)))\n",
    "\n",
    "K11 = np.array([[kernel_function(xs[i], xs[j]) for j in random_index] for i in random_index])\n",
    "K12 = np.array([[kernel_function(xs[i], xs[j]) for j in other_index] for i in random_index])\n",
    "K22_approximate = K12.transpose().dot(np.linalg.inv(K11).dot(K12))\n",
    "nystrom_approximation = np.zeros((sample_num, sample_num))\n",
    "nystrom_approximation[:q, :q] = K11\n",
    "nystrom_approximation[:q, q:] = K12\n",
    "nystrom_approximation[q:, :q] = K12.transpose()\n",
    "nystrom_approximation[q:, q:] = K22_approximate\n",
    "\n",
    "ground_truth_eigvals = np.array([np.real(ele) for ele in np.linalg.eigvals(ground_truth)])\n",
    "nystrom_approximation_eigvals = np.array([np.real(ele) for ele in np.linalg.eigvals(nystrom_approximation)])\n",
    "\n",
    "errors = np.linalg.norm(ground_truth_eigvals-nystrom_approximation_eigvals)\n",
    "errors"
   ]
  },
  {
   "cell_type": "markdown",
   "id": "9a7b1182",
   "metadata": {},
   "source": [
    "Since the index is randomly picked, it is hard to match the columns to columns and a simpler \"loss function\" is to measure the difference of the eigenvalues between the approximation and the ground truth."
   ]
  },
  {
   "cell_type": "code",
   "execution_count": 267,
   "id": "3b3e5796",
   "metadata": {},
   "outputs": [],
   "source": [
    "def compute_error(xs, q, kernel_function, repeat=2):\n",
    "    errors = 0\n",
    "    for _ in range(repeat):\n",
    "        random_index = np.random.choice(np.arange(xs.shape[0]), size=q, replace=False)\n",
    "        other_index = list(set(np.arange(xs.shape[0])).difference(set(random_index)))\n",
    "        \n",
    "        K11 = np.array([[kernel_function(xs[i], xs[j]) for j in random_index] for i in random_index])\n",
    "        K12 = np.array([[kernel_function(xs[i], xs[j]) for j in other_index] for i in random_index])\n",
    "        K22_approximate = K12.transpose().dot(np.linalg.inv(K11).dot(K12))\n",
    "        \n",
    "        nystrom_approximation = np.zeros((sample_num, sample_num))\n",
    "        nystrom_approximation[:q, :q] = K11\n",
    "        nystrom_approximation[:q, q:] = K12\n",
    "        nystrom_approximation[q:, :q] = K12.transpose()\n",
    "        nystrom_approximation[q:, q:] = K22_approximate\n",
    "        \n",
    "        ground_truth_eigvals = np.array([np.real(ele) for ele in np.linalg.eigvals(ground_truth)])\n",
    "        nystrom_approximation_eigvals = np.array([np.real(ele) for ele in np.linalg.eigvals(nystrom_approximation)])\n",
    "        errors += np.linalg.norm(ground_truth_eigvals-nystrom_approximation_eigvals)\n",
    "    return errors/repeat"
   ]
  },
  {
   "cell_type": "code",
   "execution_count": 274,
   "id": "980443f9",
   "metadata": {},
   "outputs": [],
   "source": [
    "qs = np.arange(1, 200, 5)\n",
    "errors = [compute_error(xs, q, kernel_function) for q in qs]"
   ]
  },
  {
   "cell_type": "code",
   "execution_count": 275,
   "id": "3c160a78",
   "metadata": {},
   "outputs": [
    {
     "data": {
      "text/plain": [
       "Text(0.5, 1.0, 'Error vs number of samples')"
      ]
     },
     "execution_count": 275,
     "metadata": {},
     "output_type": "execute_result"
    },
    {
     "data": {
      "image/png": "[encoded data removed]",
      "text/plain": [
       "<Figure size 432x288 with 1 Axes>"
      ]
     },
     "metadata": {
      "needs_background": "light"
     },
     "output_type": "display_data"
    }
   ],
   "source": [
    "plt.plot(qs, errors)\n",
    "plt.title(\"Error vs number of samples\")"
   ]
  },
  {
   "cell_type": "code",
   "execution_count": 283,
   "id": "a9a865b6",
   "metadata": {},
   "outputs": [],
   "source": [
    "def measure_time(xs, q, kernel_function, repeat=2):\n",
    "    # ground_truth\n",
    "    start = time.time()\n",
    "    ground_truth = np.array([[kernel_function(xs[i], xs[j]) for j in range(xs.shape[0])] for i in range(xs.shape[0])])\n",
    "    full_time = time.time() - start\n",
    "    \n",
    "    # approximation\n",
    "    random_index = np.random.choice(np.arange(sample_num), size=q, replace=False)\n",
    "    other_index = list(set(np.arange(xs.shape[0])).difference(set(random_index)))\n",
    "    \n",
    "    start = time.time()\n",
    "    K11 = np.array([[kernel_function(xs[i], xs[j]) for j in random_index] for i in random_index])\n",
    "    K12 = np.array([[kernel_function(xs[i], xs[j]) for j in other_index] for i in random_index])\n",
    "    K22_approximate = K12.transpose().dot(np.linalg.inv(K11).dot(K12))\n",
    "    nystrom_approximation = np.zeros((sample_num, sample_num))\n",
    "    nystrom_approximation[:q, :q] = K11\n",
    "    nystrom_approximation[:q, q:] = K12\n",
    "    nystrom_approximation[q:, :q] = K12.transpose()\n",
    "    nystrom_approximation[q:, q:] = K22_approximate\n",
    "    approx_time = time.time() - start\n",
    "    \n",
    "    ground_truth_eigvals = np.array([np.real(ele) for ele in np.linalg.eigvals(ground_truth)])\n",
    "    nystrom_approximation_eigvals = np.array([np.real(ele) for ele in np.linalg.eigvals(nystrom_approximation)])\n",
    "\n",
    "    errors = np.linalg.norm(ground_truth_eigvals-nystrom_approximation_eigvals)\n",
    "\n",
    "    \n",
    "    return full_time, approx_time, errors"
   ]
  },
  {
   "cell_type": "code",
   "execution_count": 284,
   "id": "fe35d618",
   "metadata": {},
   "outputs": [
    {
     "data": {
      "text/plain": [
       "(3.343234062194824, 0.07258081436157227, 14.099532877604313)"
      ]
     },
     "execution_count": 284,
     "metadata": {},
     "output_type": "execute_result"
    }
   ],
   "source": [
    "dim = 1000\n",
    "sample_num = 800\n",
    "xs = np.random.uniform(low=1, high=100, size=(sample_num, dim))\n",
    "kernel_function = lambda x, y : x.dot(y)/np.linalg.norm(x)/np.linalg.norm(y)\n",
    "\n",
    "measure_time(xs, q, kernel_function)"
   ]
  },
  {
   "cell_type": "code",
   "execution_count": null,
   "id": "e38e1e1d",
   "metadata": {},
   "outputs": [],
   "source": []
  }
 ],
 "metadata": {
  "kernelspec": {
   "display_name": "Python 3 (ipykernel)",
   "language": "python",
   "name": "python3"
  },
  "language_info": {
   "codemirror_mode": {
    "name": "ipython",
    "version": 3
   },
   "file_extension": ".py",
   "mimetype": "text/x-python",
   "name": "python",
   "nbconvert_exporter": "python",
   "pygments_lexer": "ipython3",
   "version": "3.8.11"
  }
 },
 "nbformat": 4,
 "nbformat_minor": 5
}
